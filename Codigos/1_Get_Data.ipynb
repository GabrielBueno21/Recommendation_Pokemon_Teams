{
 "cells": [
  {
   "cell_type": "code",
   "execution_count": 2,
   "metadata": {},
   "outputs": [],
   "source": [
    "import requests\n",
    "#import pandas as pd"
   ]
  },
  {
   "cell_type": "code",
   "execution_count": 8,
   "metadata": {},
   "outputs": [],
   "source": [
    "def transform_data(json_file: list):\n",
    "    '''\n",
    "    Function used to trasnform a json file into a new dictionary containing all relevant pokemon data to our work\n",
    "\n",
    "    json_file: list containing the json response file from the API\n",
    "    '''\n",
    "\n",
    "    data = []\n",
    "    for pokemon in json_file:\n",
    "        \n",
    "        # Stores relevant data for each pokemon in a dict\n",
    "        pokemon_data = dict()\n",
    "        \n",
    "\n",
    "        # Get name\n",
    "        pokemon_data['name'] = pokemon.get('names', {}).get('English', None)\n",
    "        # Get stats safely\n",
    "        stats = pokemon.get('stats', {})\n",
    "        if stats:  # Check if stats is not None\n",
    "            pokemon_data['stamina'] = stats.get('stamina', None)\n",
    "            pokemon_data['attack'] = stats.get('attack', None)\n",
    "            pokemon_data['defense'] = stats.get('defense', None)\n",
    "        else:\n",
    "            pokemon_data['stamina'] = None\n",
    "            pokemon_data['attack'] = None\n",
    "            pokemon_data['defense'] = None\n",
    "\n",
    "        pokemon_data['primaryType'] = pokemon.get('primaryType').get('names').get('English')\n",
    "        \n",
    "        try:\n",
    "            pokemon_data['secondaryType'] = pokemon.get('secondaryType').get('names').get('English')\n",
    "        except AttributeError:\n",
    "            pokemon_data['secondaryType'] = None\n",
    "\n",
    "    \n",
    "\n",
    "    \n",
    "    \n",
    "\n",
    "\n",
    "try:\n",
    "    r = requests.get('https://pokemon-go-api.github.io/pokemon-go-api/api/pokedex.json')\n",
    "    r.raise_for_status()\n",
    "except requests.exceptions.RequestException as e:\n",
    "    print('Erro:', e)  \n",
    "\n",
    "# Get content of the response\n",
    "r_content = r.json()\n",
    "\n",
    "\n",
    "\n",
    "\n"
   ]
  },
  {
   "cell_type": "code",
   "execution_count": 44,
   "metadata": {},
   "outputs": [
    {
     "data": {
      "text/plain": [
       "{'THUNDER_SHOCK_FAST': {'id': 'THUNDER_SHOCK_FAST',\n",
       "  'power': 5,\n",
       "  'energy': 8,\n",
       "  'durationMs': 600,\n",
       "  'type': {'type': 'POKEMON_TYPE_ELECTRIC',\n",
       "   'names': {'English': 'Electric',\n",
       "    'German': 'Elektro',\n",
       "    'French': 'Électrik',\n",
       "    'Italian': 'Elettro',\n",
       "    'Japanese': 'でんき',\n",
       "    'Korean': '전기',\n",
       "    'Spanish': 'Eléctrico'}},\n",
       "  'names': {'English': 'Thunder Shock',\n",
       "   'German': 'Donnerschock',\n",
       "   'French': 'Éclair',\n",
       "   'Italian': 'Tuonoshock',\n",
       "   'Japanese': 'でんきショック',\n",
       "   'Korean': '전기쇼크',\n",
       "   'Spanish': 'Impactrueno'},\n",
       "  'combat': {'energy': 9, 'power': 3, 'turns': 2, 'buffs': None}},\n",
       " 'DRAGON_BREATH_FAST': {'id': 'DRAGON_BREATH_FAST',\n",
       "  'power': 6,\n",
       "  'energy': 4,\n",
       "  'durationMs': 500,\n",
       "  'type': {'type': 'POKEMON_TYPE_DRAGON',\n",
       "   'names': {'English': 'Dragon',\n",
       "    'German': 'Drache',\n",
       "    'French': 'Dragon',\n",
       "    'Italian': 'Drago',\n",
       "    'Japanese': 'ドラゴン',\n",
       "    'Korean': '드래곤',\n",
       "    'Spanish': 'Dragón'}},\n",
       "  'names': {'English': 'Dragon Breath',\n",
       "   'German': 'Feuerodem',\n",
       "   'French': 'Draco-Souffle',\n",
       "   'Italian': 'Dragospiro',\n",
       "   'Japanese': 'りゅうのいぶき',\n",
       "   'Korean': '용의숨결',\n",
       "   'Spanish': 'Dragoaliento'},\n",
       "  'combat': {'energy': 3, 'power': 4, 'turns': 1, 'buffs': None}}}"
      ]
     },
     "execution_count": 44,
     "metadata": {},
     "output_type": "execute_result"
    }
   ],
   "source": [
    "pokemon['quickMoves']"
   ]
  },
  {
   "cell_type": "code",
   "execution_count": 42,
   "metadata": {},
   "outputs": [],
   "source": [
    "data = []\n",
    "\n",
    "for pokemon in r_content:\n",
    "    \n",
    "    # Stores relevant data for each pokemon in a dict\n",
    "    pokemon_data = dict()\n",
    "    \n",
    "\n",
    "    # Get name\n",
    "    pokemon_data['name'] = pokemon.get('names', {}).get('English', None)\n",
    "    # Get stats safely\n",
    "    stats = pokemon.get('stats', {})\n",
    "    if stats:  # Check if stats is not None\n",
    "        pokemon_data['stamina'] = stats.get('stamina', None)\n",
    "        pokemon_data['attack'] = stats.get('attack', None)\n",
    "        pokemon_data['defense'] = stats.get('defense', None)\n",
    "    else:\n",
    "        pokemon_data['stamina'] = None\n",
    "        pokemon_data['attack'] = None\n",
    "        pokemon_data['defense'] = None\n",
    "\n",
    "    pokemon_data['primaryType'] = pokemon.get('primaryType').get('names').get('English')\n",
    "    \n",
    "    try:\n",
    "        pokemon_data['secondaryType'] = pokemon.get('secondaryType').get('names').get('English')\n",
    "    except AttributeError:\n",
    "        pokemon_data['secondaryType'] = None\n",
    "\n",
    "\n",
    "\n"
   ]
  },
  {
   "cell_type": "code",
   "execution_count": 43,
   "metadata": {},
   "outputs": [
    {
     "data": {
      "text/plain": [
       "{'name': 'Miraidon',\n",
       " 'stamina': 205,\n",
       " 'attack': 263,\n",
       " 'defense': 223,\n",
       " 'primaryType': 'Electric',\n",
       " 'secondaryType': 'Dragon'}"
      ]
     },
     "execution_count": 43,
     "metadata": {},
     "output_type": "execute_result"
    }
   ],
   "source": [
    "pokemon_data"
   ]
  },
  {
   "cell_type": "code",
   "execution_count": 13,
   "metadata": {},
   "outputs": [
    {
     "data": {
      "text/plain": [
       "128"
      ]
     },
     "execution_count": 13,
     "metadata": {},
     "output_type": "execute_result"
    }
   ],
   "source": [
    "r_content[0]['stats']['stamina']"
   ]
  }
 ],
 "metadata": {
  "kernelspec": {
   "display_name": ".venv",
   "language": "python",
   "name": "python3"
  },
  "language_info": {
   "codemirror_mode": {
    "name": "ipython",
    "version": 3
   },
   "file_extension": ".py",
   "mimetype": "text/x-python",
   "name": "python",
   "nbconvert_exporter": "python",
   "pygments_lexer": "ipython3",
   "version": "3.11.7"
  }
 },
 "nbformat": 4,
 "nbformat_minor": 2
}
