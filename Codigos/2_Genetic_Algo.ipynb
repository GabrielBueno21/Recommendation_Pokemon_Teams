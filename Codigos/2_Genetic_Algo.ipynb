{
 "cells": [
  {
   "cell_type": "code",
   "execution_count": 1,
   "metadata": {},
   "outputs": [],
   "source": [
    "import numpy as np\n",
    "\n",
    "from pymongo import MongoClient"
   ]
  },
  {
   "cell_type": "markdown",
   "metadata": {},
   "source": [
    "Importing Pokemon Data:"
   ]
  },
  {
   "cell_type": "code",
   "execution_count": 2,
   "metadata": {},
   "outputs": [],
   "source": [
    "client = MongoClient()\n",
    "db = client['genetic_algo'] \n",
    "\n",
    "# Pokemon's teams collection\n",
    "collection_poke_teams = db['pokemon_teams']\n",
    "pokemon_teams = list(collection_poke_teams.find())\n",
    "\n",
    "# Individual pokemon's collection\n",
    "collec_indiv_pokemon = db['pokemons']\n",
    "pokemons = list(collec_indiv_pokemon.find())\n"
   ]
  },
  {
   "cell_type": "code",
   "execution_count": 126,
   "metadata": {},
   "outputs": [
    {
     "data": {
      "text/plain": [
       "array([538], dtype=int64)"
      ]
     },
     "execution_count": 126,
     "metadata": {},
     "output_type": "execute_result"
    }
   ],
   "source": [
    "\n",
    "# Random selector \n",
    "rnd_selector = np.random.default_rng()\n",
    "\n",
    "pokemon_team_idx = rnd_selector.integers(low = 0, high = len(pokemons), size = 3)\n",
    "pokemon_team_idx\n",
    "\n"
   ]
  }
 ],
 "metadata": {
  "kernelspec": {
   "display_name": "ecd",
   "language": "python",
   "name": "python3"
  },
  "language_info": {
   "codemirror_mode": {
    "name": "ipython",
    "version": 3
   },
   "file_extension": ".py",
   "mimetype": "text/x-python",
   "name": "python",
   "nbconvert_exporter": "python",
   "pygments_lexer": "ipython3",
   "version": "3.11.7"
  }
 },
 "nbformat": 4,
 "nbformat_minor": 2
}
