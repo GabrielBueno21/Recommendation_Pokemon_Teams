{
 "cells": [
  {
   "cell_type": "code",
   "execution_count": 7,
   "metadata": {},
   "outputs": [],
   "source": [
    "import numpy as np\n",
    "import regex as re\n",
    "from pymongo import MongoClient\n",
    "from pyeasyga import pyeasyga"
   ]
  },
  {
   "cell_type": "markdown",
   "metadata": {},
   "source": [
    "Importing Pokemon Data:"
   ]
  },
  {
   "cell_type": "code",
   "execution_count": 8,
   "metadata": {},
   "outputs": [],
   "source": [
    "client = MongoClient()\n",
    "db = client['genetic_algo'] \n",
    "\n",
    "# Pokemon's teams collection\n",
    "collection_poke_teams = db['pokemon_teams']\n",
    "pokemon_teams = list(collection_poke_teams.find())\n",
    "\n",
    "# Individual pokemon's collection\n",
    "collec_indiv_pokemon = db['pokemons']\n",
    "pokemons = list(collec_indiv_pokemon.find())\n"
   ]
  },
  {
   "cell_type": "markdown",
   "metadata": {},
   "source": [
    "Defining some important functions:"
   ]
  },
  {
   "cell_type": "code",
   "execution_count": 23,
   "metadata": {},
   "outputs": [
    {
     "data": {
      "text/plain": [
       "[{'_id': ObjectId('66d60b4953343f07c4a35b0c'),\n",
       "  'name': 'Riolu',\n",
       "  'poke_id': '0446',\n",
       "  'stamina': 120,\n",
       "  'attack': 127,\n",
       "  'defense': 78,\n",
       "  'primaryType': 'Fighting',\n",
       "  'primaryType_against_Bug': 0.5,\n",
       "  'primaryType_against_Dark': 0.5,\n",
       "  'primaryType_against_Dragon': 1,\n",
       "  'primaryType_against_Electric': 1,\n",
       "  'primaryType_against_Fairy': 2,\n",
       "  'primaryType_against_Fighting': 0.5,\n",
       "  'primaryType_against_Fire': 1,\n",
       "  'primaryType_against_Flying': 2,\n",
       "  'primaryType_against_Ghost': 1,\n",
       "  'primaryType_against_Grass': 1,\n",
       "  'primaryType_against_Ground': 1,\n",
       "  'primaryType_against_Ice': 1,\n",
       "  'primaryType_against_Normal': 1,\n",
       "  'primaryType_against_Poison': 1,\n",
       "  'primaryType_against_Psychic': 2,\n",
       "  'primaryType_against_Rock': 0.5,\n",
       "  'primaryType_against_Steel': 1,\n",
       "  'primaryType_against_Water': 1,\n",
       "  'CP': 993.0},\n",
       " {'_id': ObjectId('66d60b4953343f07c4a35995'),\n",
       "  'name': 'Tentacool',\n",
       "  'poke_id': '0071',\n",
       "  'stamina': 120,\n",
       "  'attack': 97,\n",
       "  'defense': 149,\n",
       "  'primaryType': 'Water',\n",
       "  'primaryType_against_Bug': 1,\n",
       "  'primaryType_against_Dark': 1,\n",
       "  'primaryType_against_Dragon': 1,\n",
       "  'primaryType_against_Electric': 2,\n",
       "  'primaryType_against_Fairy': 1,\n",
       "  'primaryType_against_Fighting': 1,\n",
       "  'primaryType_against_Fire': 0.5,\n",
       "  'primaryType_against_Flying': 1,\n",
       "  'primaryType_against_Ghost': 1,\n",
       "  'primaryType_against_Grass': 2,\n",
       "  'primaryType_against_Ground': 1,\n",
       "  'primaryType_against_Ice': 0.5,\n",
       "  'primaryType_against_Normal': 1,\n",
       "  'primaryType_against_Poison': 1,\n",
       "  'primaryType_against_Psychic': 1,\n",
       "  'primaryType_against_Rock': 1,\n",
       "  'primaryType_against_Steel': 0.5,\n",
       "  'primaryType_against_Water': 0.5,\n",
       "  'secondaryType': 'Poison',\n",
       "  'secondaryType_against_Bug': 0.5,\n",
       "  'secondaryType_against_Dark': 1,\n",
       "  'secondaryType_against_Dragon': 1,\n",
       "  'secondaryType_against_Electric': 1,\n",
       "  'secondaryType_against_Fairy': 0.5,\n",
       "  'secondaryType_against_Fighting': 0.5,\n",
       "  'secondaryType_against_Fire': 1,\n",
       "  'secondaryType_against_Flying': 1,\n",
       "  'secondaryType_against_Ghost': 1,\n",
       "  'secondaryType_against_Grass': 0.5,\n",
       "  'secondaryType_against_Ground': 2,\n",
       "  'secondaryType_against_Ice': 1,\n",
       "  'secondaryType_against_Normal': 1,\n",
       "  'secondaryType_against_Poison': 0.5,\n",
       "  'secondaryType_against_Psychic': 2,\n",
       "  'secondaryType_against_Rock': 1,\n",
       "  'secondaryType_against_Steel': 1,\n",
       "  'secondaryType_against_Water': 1,\n",
       "  'CP': 1040.0},\n",
       " {'_id': ObjectId('66d60b4953343f07c4a35bdb'),\n",
       "  'name': 'Braixen',\n",
       "  'poke_id': '0653',\n",
       "  'stamina': 153,\n",
       "  'attack': 171,\n",
       "  'defense': 130,\n",
       "  'primaryType': 'Fire',\n",
       "  'primaryType_against_Bug': 0.5,\n",
       "  'primaryType_against_Dark': 1,\n",
       "  'primaryType_against_Dragon': 1,\n",
       "  'primaryType_against_Electric': 1,\n",
       "  'primaryType_against_Fairy': 0.5,\n",
       "  'primaryType_against_Fighting': 1,\n",
       "  'primaryType_against_Fire': 0.5,\n",
       "  'primaryType_against_Flying': 1,\n",
       "  'primaryType_against_Ghost': 1,\n",
       "  'primaryType_against_Grass': 0.5,\n",
       "  'primaryType_against_Ground': 2,\n",
       "  'primaryType_against_Ice': 0.5,\n",
       "  'primaryType_against_Normal': 1,\n",
       "  'primaryType_against_Poison': 1,\n",
       "  'primaryType_against_Psychic': 1,\n",
       "  'primaryType_against_Rock': 2,\n",
       "  'primaryType_against_Steel': 0.5,\n",
       "  'primaryType_against_Water': 2,\n",
       "  'CP': 1813.0}]"
      ]
     },
     "execution_count": 23,
     "metadata": {},
     "output_type": "execute_result"
    }
   ],
   "source": [
    "gen_random_team()"
   ]
  },
  {
   "cell_type": "code",
   "execution_count": 26,
   "metadata": {},
   "outputs": [],
   "source": [
    "def gen_random_team():\n",
    "\n",
    "    client = MongoClient()\n",
    "    db = client['genetic_algo'] \n",
    "\n",
    "    # Individual pokemon's collection\n",
    "    collec_indiv_pokemon = db['pokemons']\n",
    "    pokemons = list(collec_indiv_pokemon.find())\n",
    "    \n",
    "    \n",
    "    # Random selector \n",
    "    rnd_selector = np.random.default_rng(seed = 1000090)\n",
    "\n",
    "    poke_rival_tm_idx = rnd_selector.integers(low = 0, high = len(pokemons), size = 3)\n",
    "    poke_rival_tm = [pokemons[poke_idx] for poke_idx in poke_rival_tm_idx]\n",
    "\n",
    "    return poke_rival_tm\n",
    "\n",
    "\n",
    "def best_against(pokeA, pokeB):\n",
    "    \n",
    "    best = 0\n",
    "    pokemons_max_types = ['primaryType', 'secondaryType']\n",
    "    \n",
    "    for poke_typeA in pokemons_max_types:\n",
    "        if poke_typeA in pokeA:\n",
    "\n",
    "            for poke_typeB in pokemons_max_types:\n",
    "                if poke_typeB in pokeB:\n",
    "                    typeA_against_typeB = f'{poke_typeA}_against_{pokeB[poke_typeB]}'\n",
    "                    if typeA_against_typeB in pokeA and pokeA[typeA_against_typeB] > best:\n",
    "\n",
    "                        best = pokeA[typeA_against_typeB]\n",
    "    return best\n",
    "    \n",
    "\n",
    "def battle(poke1, poke2):\n",
    "    against1 = best_against(poke1, poke2)\n",
    "    against2 = best_against(poke2, poke1)\n",
    "\n",
    "    return poke1['CP'] * against1 - poke2['CP'] * against2\n",
    "\n",
    "def fitness(individual, data):\n",
    "    # Starts the fit value with 0\n",
    "    fit = 0\n",
    "    rival = gen_random_team()\n",
    "\n",
    "    if individual.count(1) == 3:  # Check if 3 pokemons were selected\n",
    "        selected_pokemon = [home_pokemon for selected, home_pokemon in zip(individual, data) if selected]\n",
    "        \n",
    "        # Cada Pokémon do time do indivíduo batalhará contra todos os 3 do time rival\n",
    "        for home_pokemon in selected_pokemon:\n",
    "            for rival_pokemon in rival:\n",
    "                fit += battle(home_pokemon, rival_pokemon)\n",
    "    \n",
    "    return fit\n"
   ]
  },
  {
   "cell_type": "markdown",
   "metadata": {},
   "source": [
    "### Training the GA"
   ]
  },
  {
   "cell_type": "code",
   "execution_count": 27,
   "metadata": {},
   "outputs": [],
   "source": [
    "ga = pyeasyga.GeneticAlgorithm(\n",
    "    pokemon_teams,  # Gera uma população inicial\n",
    "    population_size=20,\n",
    "    generations=50,\n",
    "    crossover_probability=0.8,\n",
    "    mutation_probability=0.2,\n",
    "    elitism=True\n",
    ")\n",
    "ga.fitness_function = fitness\n",
    "# Executar o algoritmo\n",
    "ga.run()\n"
   ]
  },
  {
   "cell_type": "code",
   "execution_count": 28,
   "metadata": {},
   "outputs": [
    {
     "name": "stdout",
     "output_type": "stream",
     "text": [
      "(0, [1, 0, 0, 0, 0, 1, 0, 0, 0, 1, 0, 1, 1, 1, 1, 1, 1, 1, 1, 1, 1, 1, 0, 1, 1, 0, 1, 0, 0, 0, 0, 0, 1, 1, 1, 0, 1, 1, 1, 0, 0, 1, 0, 0, 1, 0, 0, 0, 1, 0, 1, 0, 1, 0, 1, 1, 1, 1, 0, 1, 1, 1, 0, 0, 1, 1, 0, 0, 0, 0, 1, 0, 0, 0, 1, 1, 1, 1, 1, 1, 0, 1, 0, 1, 1, 0, 0, 0, 0, 1, 0, 1, 1, 0, 1, 0, 1, 0, 0, 1, 0, 1, 1, 1, 1, 1, 1, 0, 1, 1, 0, 1, 0, 0, 0, 0, 0, 1, 0, 0, 0, 0, 1, 1, 0, 0, 1, 0, 1, 0, 0, 0, 1, 0, 0, 1, 1, 0, 1, 1, 0, 0, 0, 1, 1, 0, 1, 0, 0, 0, 0, 0, 0, 1, 1, 0, 0, 1, 0, 0, 1, 1, 1, 1, 1, 0, 1, 1, 1, 0, 0, 0, 1, 0, 0, 1, 0, 0, 0, 1, 1, 0, 1, 1, 1, 1, 1, 0, 0, 1, 0, 0, 1, 0, 0, 1, 0, 1, 1, 1, 0, 1, 1, 0, 0, 1, 0, 1, 1, 0, 1, 1, 0, 0, 0, 0, 1, 1, 0, 1, 0, 0, 1, 0, 1, 0, 0, 0, 0, 1, 0, 1, 1, 0, 1, 0, 1, 1, 1, 1, 1, 0, 1, 0, 0, 0, 0, 0, 0, 0, 0, 0, 0, 1, 1, 0, 1, 0, 1, 1, 0, 0, 1, 1, 1, 0, 0, 0, 0, 1, 0, 0, 0, 1, 0, 0, 1, 1, 0, 0, 0, 1, 0, 0, 0, 0, 0, 1, 1, 0, 0, 1, 1, 1, 0, 0, 1, 0, 1, 0, 1, 0, 0, 1, 0, 0, 0, 1, 1, 0, 0, 0, 1, 0, 0, 0, 0, 1, 0, 0, 1, 0, 1, 0, 1, 1, 1, 0, 0, 0, 0, 1, 1, 0, 0, 0, 0, 0, 0, 0, 0, 1, 0, 0, 1, 1, 0, 0, 1, 1, 1, 1, 0, 1, 0, 1, 1, 0, 0, 0, 0, 0, 0, 0, 1, 1, 1, 1, 0, 1, 1, 0, 0, 1, 0, 0, 0, 1, 0, 1, 1, 0, 1, 0, 0, 1, 1, 1, 0, 1, 0, 0, 1, 1, 1, 1, 0, 1, 0, 1, 1, 0, 0, 1, 1, 1, 1, 0, 1, 0, 0, 1, 1, 0, 1, 0, 1, 0, 0, 0, 1, 0, 1, 1, 1, 1, 0, 0, 0, 1, 0, 1, 1, 0, 1, 1, 0, 1, 1, 1, 0, 0, 1, 0, 0, 0, 1, 1, 0, 1, 0, 0, 0, 1, 1, 0, 1, 1, 0, 1, 0, 1, 1, 1, 0, 1, 1, 1, 1, 0, 0, 1, 0, 0, 1, 1, 0, 1, 1, 1, 1, 0, 1, 1, 0, 1, 0, 0, 1, 0, 0, 1, 1, 1, 0, 1, 0, 1, 1, 1, 1, 1, 1, 0, 1, 0, 1, 0, 0, 1, 0, 1, 0, 1, 0, 1, 0, 1, 0, 0, 1, 0, 0, 1, 0, 1, 1, 1, 0, 1, 1, 0, 1, 0, 0, 1, 1, 1, 1, 1, 1, 1, 1, 1, 1, 0, 1, 0, 0, 0, 1, 0, 1, 1, 1, 1, 1, 1, 0, 0, 0, 1, 1, 1, 0, 0, 1, 1, 1, 0, 1, 0, 0, 0, 0, 1, 1, 0, 1, 0, 0, 1, 0, 0, 1, 1, 0, 0, 1, 1, 1, 1, 1, 0, 1, 0, 0, 1, 1, 0, 0, 1, 1, 1, 1, 0, 0, 0, 1, 1, 1, 1, 0, 1, 0, 0, 0, 0, 0, 0, 1, 0, 1, 0, 0, 1, 1, 1, 1, 0, 1, 1, 0, 1, 1, 0, 0, 0, 1, 1, 1, 0, 0, 0, 1, 1, 0, 1, 0, 1, 1, 1, 0, 0, 1, 0, 1, 0, 1, 0, 0, 0, 1, 0, 0, 0, 1, 1, 0, 1, 1, 0, 1, 0, 0, 0, 1, 1, 0, 1, 1, 1, 0, 0, 0, 0, 0, 1, 1, 1, 0, 0, 1, 1, 0, 0, 1, 0, 1, 1, 1, 0, 0, 1, 0, 0, 0, 1, 0, 1, 0, 0, 1, 1, 0, 0, 1, 1, 0, 1, 1, 0, 1, 0, 0, 0, 1, 0, 0, 0, 1, 1, 0, 0, 0, 1, 1, 0, 0, 0, 1, 0, 0, 1, 0, 0, 0, 0, 1, 1, 0, 1, 0, 0, 0, 1, 1, 0, 1, 1, 1, 1, 1, 0, 1, 1, 0, 1, 0, 1, 0, 0, 0, 1, 1, 1, 1, 0, 0, 0, 0, 1, 1, 1, 0, 1, 0, 1, 0, 0, 1, 0, 1, 1, 1, 1, 0, 1, 0, 0, 0, 0, 0, 1, 0, 0, 1, 0, 0, 0, 1, 1, 0, 1, 0, 0, 1, 0, 1, 0, 0, 1, 1, 1, 0, 1, 0, 1, 0, 0, 0, 1, 0, 0, 0, 0, 1, 1, 0, 1, 0, 1, 1, 0, 0, 0, 0, 0, 0, 0, 0, 0, 0, 1, 1, 0, 1, 1, 0, 1, 1, 0, 0, 0, 0, 0, 1, 0, 0, 0, 1, 0, 0, 0, 1, 0, 0, 0, 0, 0, 0, 1, 0, 1, 1, 0, 1, 1, 0, 0, 1, 0, 0, 1, 1, 1, 1, 1, 1, 0, 0, 0, 1, 0, 1, 1, 0, 0, 0, 0, 0, 1, 1, 0, 0, 1, 1, 0, 1, 0, 0, 1, 0, 0, 0, 1, 1, 1, 0, 1, 0, 0, 1, 0, 1, 0, 1, 0, 1, 1, 0, 0, 0, 1, 1, 1, 1, 1, 1, 0, 1, 1, 1, 1, 0, 1, 1, 0, 0, 0, 0, 1, 1, 0, 0, 0, 1, 0, 0, 1, 1, 0, 0, 0, 1, 0, 0, 1, 0, 1, 0, 1, 1, 0, 0, 1, 1, 1, 1, 0, 1, 0, 0, 0, 1, 0, 1, 0, 1, 0])\n"
     ]
    }
   ],
   "source": [
    "print(ga.best_individual())"
   ]
  }
 ],
 "metadata": {
  "kernelspec": {
   "display_name": "ecd",
   "language": "python",
   "name": "python3"
  },
  "language_info": {
   "codemirror_mode": {
    "name": "ipython",
    "version": 3
   },
   "file_extension": ".py",
   "mimetype": "text/x-python",
   "name": "python",
   "nbconvert_exporter": "python",
   "pygments_lexer": "ipython3",
   "version": "3.11.7"
  }
 },
 "nbformat": 4,
 "nbformat_minor": 2
}
